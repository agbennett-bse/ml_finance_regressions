{
 "cells": [
  {
   "cell_type": "markdown",
   "metadata": {},
   "source": [
    "# EXERCISE 3:\n",
    "\n",
    "***Neural Networks and Gaussian process:***\n",
    "Predict the SP500 with the  nancial indicators assigned to your team in the google spreadsheet (ep, dp, de, dy, dfy, bm, svar, ntis, in, tbl , see RLab3 2 GWcausalSP500.R), some lagged series of these indicators and lags of the target using a Neural Network and a GP regression with your desired kernel. Predict return, or price, or direction (up or down). For which target works best? Do some feature selection to disregard some variables, select appropriate lags: causality, (distance) correlation, VAR-test, Lasso ... (The script RLab5 GausProc.R can be of help. The dataset is goyal-welch2022Monthly.csv and work within the period 1927/2021.)\n",
    "\n",
    "In our case, we have been assigned variables dp, de and ep."
   ]
  },
  {
   "cell_type": "code",
   "execution_count": null,
   "metadata": {},
   "outputs": [],
   "source": [
    "import pandas as pd\n",
    "import numpy as np\n",
    "import matplotlib.pyplot as plt\n",
    "import seaborn as sns\n",
    "from statsmodels.tsa.vector_ar.var_model import VAR\n",
    "from statsmodels.tsa.stattools import grangercausalitytests, adfuller"
   ]
  },
  {
   "cell_type": "code",
   "execution_count": null,
   "metadata": {},
   "outputs": [],
   "source": [
    "snp = pd.read_csv('goyal-welch2022Monthly.csv')\n",
    "\n",
    "snp['yyyymm'] = snp['yyyymm'].astype(str)\n",
    "snp['yyyymm'] = pd.to_datetime(snp['yyyymm'], format='%Y%m')\n",
    "snp = snp.loc[(snp['yyyymm'] >= '1927-01-01') & (snp['yyyymm'] < '2022-01-01')].reset_index(drop=True)\n",
    "snp['Index'] = snp['Index'].str.replace(',', '').astype(float)\n",
    "\n",
    "display(snp)\n",
    "snp.info()"
   ]
  },
  {
   "cell_type": "markdown",
   "metadata": {},
   "source": [
    "We can observe that THERE ARE NO MISSING VALUES FOR OUR VARIABLES OF INTEREST (Index, D12 and E12)."
   ]
  },
  {
   "cell_type": "markdown",
   "metadata": {},
   "source": [
    "We compute the new features as we need to compute:\n",
    "\n",
    "- Dividend Price Ratio (DP)\n",
    "- Dividend Earnings Ratio (DE)\n",
    "- Earnings Price Ratio (EP)"
   ]
  },
  {
   "cell_type": "code",
   "execution_count": null,
   "metadata": {},
   "outputs": [],
   "source": [
    "snp['DP'] = snp['D12'] / snp['Index']\n",
    "snp['DE'] = snp['D12'] / snp['E12']\n",
    "snp['EP'] = snp['E12'] / snp['Index']\n",
    "\n",
    "display(snp.head())"
   ]
  },
  {
   "cell_type": "code",
   "execution_count": null,
   "metadata": {},
   "outputs": [],
   "source": [
    "fig, axes = plt.subplots(nrows=6, ncols=1, figsize=(10, 18))\n",
    "\n",
    "columns_to_plot = ['Index', 'D12', 'E12', 'DP', 'DE', 'EP']\n",
    "for i, col in enumerate(columns_to_plot):\n",
    "    axes[i].plot(snp['yyyymm'], snp[col], marker='', linestyle='-')\n",
    "    axes[i].set_title(col)\n",
    "    axes[i].set_xlabel('Date')\n",
    "    axes[i].set_ylabel(col)\n",
    "\n",
    "plt.tight_layout()\n",
    "plt.show()"
   ]
  },
  {
   "cell_type": "code",
   "execution_count": null,
   "metadata": {},
   "outputs": [],
   "source": [
    "for col in columns_to_plot:\n",
    "    adf_result = adfuller(snp[col])\n",
    "    print(f'ADF Statistic for {col}: {adf_result[0]}')\n",
    "    print(f'p-value for {col}: {adf_result[1]}\\n')"
   ]
  }
 ],
 "metadata": {
  "kernelspec": {
   "display_name": "neuralnets",
   "language": "python",
   "name": "python3"
  },
  "language_info": {
   "codemirror_mode": {
    "name": "ipython",
    "version": 3
   },
   "file_extension": ".py",
   "mimetype": "text/x-python",
   "name": "python",
   "nbconvert_exporter": "python",
   "pygments_lexer": "ipython3",
   "version": "3.11.6"
  }
 },
 "nbformat": 4,
 "nbformat_minor": 2
}
