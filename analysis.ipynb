{
 "cells": [
  {
   "cell_type": "code",
   "execution_count": 44,
   "metadata": {},
   "outputs": [],
   "source": [
    "import pandas as pd \n",
    "import numpy as np\n",
    "import pyreadr"
   ]
  },
  {
   "cell_type": "code",
   "execution_count": 45,
   "metadata": {},
   "outputs": [],
   "source": [
    "daily_data = pd.read_csv('data/daily_returns.csv')\n",
    "weekly_data = pd.read_csv('data/weekly_returns.csv')"
   ]
  },
  {
   "cell_type": "code",
   "execution_count": 46,
   "metadata": {},
   "outputs": [],
   "source": [
    "# set the date as the index\n",
    "daily_data['Date'] = pd.to_datetime(daily_data['Date'])\n",
    "\n",
    "daily_data = daily_data.set_index('Date')\n",
    "\n",
    "\n",
    "# do the same for weekly\n",
    "weekly_data['Date'] = pd.to_datetime(weekly_data['Date'])\n",
    "\n",
    "weekly_data = weekly_data.set_index('Date')\n",
    "\n"
   ]
  },
  {
   "cell_type": "code",
   "execution_count": 47,
   "metadata": {},
   "outputs": [
    {
     "data": {
      "text/plain": [
       "BSESN    0.054585\n",
       "BVSP     0.049901\n",
       "FTSE     0.031886\n",
       "GDAXI    0.025581\n",
       "GSPC     0.033507\n",
       "HSCE     0.061070\n",
       "IBEX     0.025221\n",
       "JKSE     0.063412\n",
       "MXX      0.036390\n",
       "N225     0.058548\n",
       "TWII     0.056386\n",
       "VIX      0.033507\n",
       "VLIC     0.033507\n",
       "dtype: float64"
      ]
     },
     "execution_count": 47,
     "metadata": {},
     "output_type": "execute_result"
    }
   ],
   "source": [
    "daily_data.isna().sum() / daily_data.shape[0]"
   ]
  },
  {
   "cell_type": "code",
   "execution_count": 48,
   "metadata": {},
   "outputs": [
    {
     "data": {
      "text/plain": [
       "BSESN    0.229917\n",
       "BVSP     0.229224\n",
       "FTSE     0.229224\n",
       "GDAXI    0.229224\n",
       "GSPC     0.229224\n",
       "HSCE     0.229224\n",
       "IBEX     0.229224\n",
       "JKSE     0.236842\n",
       "MXX      0.229224\n",
       "N225     0.230609\n",
       "TWII     0.239612\n",
       "VIX      0.229224\n",
       "VLIC     0.229224\n",
       "dtype: float64"
      ]
     },
     "execution_count": 48,
     "metadata": {},
     "output_type": "execute_result"
    }
   ],
   "source": [
    "weekly_data.isna().sum() / weekly_data.shape[0]"
   ]
  },
  {
   "cell_type": "code",
   "execution_count": 49,
   "metadata": {},
   "outputs": [],
   "source": [
    "# impute data with the mean of the previous and next day\n",
    "\n",
    "daily_data_ffill = daily_data.ffill()\n",
    "daily_data_bfill = daily_data.bfill()\n",
    "\n",
    "weekly_data_ffill = weekly_data.ffill()\n",
    "weekly_data_bfill = weekly_data.bfill()\n",
    "\n",
    "weekly_data = (weekly_data_ffill + weekly_data_bfill) / 2\n",
    "daily_data = (daily_data_ffill + daily_data_bfill) / 2"
   ]
  },
  {
   "cell_type": "markdown",
   "metadata": {},
   "source": [
    "find and remove outliers"
   ]
  },
  {
   "cell_type": "code",
   "execution_count": 50,
   "metadata": {},
   "outputs": [],
   "source": [
    "# find outliers with iqr\n",
    "def remove_outliers(data):\n",
    "    for col in data.columns:\n",
    "        threshold = 2\n",
    "\n",
    "        Q1 = data[col].quantile(0.25)\n",
    "        Q3 = data[col].quantile(0.75)\n",
    "        IQR = Q3 - Q1\n",
    "\n",
    "        # replace outliers with NA\n",
    "        data.loc[(data[col] < (Q1 - threshold * IQR)) | (data[col] > (Q3 + threshold * IQR)), col] = np.nan\n",
    "    return data \n",
    "\n",
    "daily_data = remove_outliers(daily_data)\n",
    "weekly_data = remove_outliers(weekly_data)"
   ]
  },
  {
   "cell_type": "markdown",
   "metadata": {},
   "source": [
    "replace the outliers with the mean of previous and next values"
   ]
  },
  {
   "cell_type": "code",
   "execution_count": 51,
   "metadata": {},
   "outputs": [],
   "source": [
    "# impute data with the mean of the previous and next day\n",
    "\n",
    "daily_data_ffill = daily_data.ffill()\n",
    "daily_data_bfill = daily_data.bfill()\n",
    "\n",
    "weekly_data_ffill = weekly_data.ffill()\n",
    "weekly_data_bfill = weekly_data.bfill()\n",
    "\n",
    "weekly_data = (weekly_data_ffill + weekly_data_bfill) / 2\n",
    "daily_data = (daily_data_ffill + daily_data_bfill) / 2"
   ]
  },
  {
   "cell_type": "code",
   "execution_count": 52,
   "metadata": {},
   "outputs": [
    {
     "name": "stdout",
     "output_type": "stream",
     "text": [
      "(5551, 13)\n",
      "(520, 13)\n"
     ]
    }
   ],
   "source": [
    "print(daily_data.shape)\n",
    "\n",
    "# select subset of data\n",
    "dI=\"2001-01-01\"\n",
    "dF=\"2003-01-01\"\n",
    "\n",
    "daily_data = daily_data.loc[dI:dF]\n",
    "weekly_data = weekly_data.loc[dI:dF]\n",
    "\n",
    "print(daily_data.shape)"
   ]
  },
  {
   "cell_type": "markdown",
   "metadata": {},
   "source": [
    "check na"
   ]
  },
  {
   "cell_type": "code",
   "execution_count": 53,
   "metadata": {},
   "outputs": [
    {
     "data": {
      "text/plain": [
       "BSESN    0.0\n",
       "BVSP     0.0\n",
       "FTSE     0.0\n",
       "GDAXI    0.0\n",
       "GSPC     0.0\n",
       "HSCE     0.0\n",
       "IBEX     0.0\n",
       "JKSE     0.0\n",
       "MXX      0.0\n",
       "N225     0.0\n",
       "TWII     0.0\n",
       "VIX      0.0\n",
       "VLIC     0.0\n",
       "dtype: float64"
      ]
     },
     "execution_count": 53,
     "metadata": {},
     "output_type": "execute_result"
    }
   ],
   "source": [
    "daily_data.isna().sum() / daily_data.shape[0]"
   ]
  },
  {
   "cell_type": "markdown",
   "metadata": {},
   "source": [
    "### Calculating EWMA Variance from EMA formula"
   ]
  },
  {
   "cell_type": "code",
   "execution_count": null,
   "metadata": {},
   "outputs": [],
   "source": [
    "# start with EMA formula\n",
    "# EMA = Price(t) * k + EMA(y) * (1 – k)\n",
    "# where:\n",
    "# t = today\n",
    "# y = yesterday\n",
    "# N = number of days in EMA\n",
    "# k = 2/(N+1)\n",
    "\n",
    "# then calculate EWMA based on the EMA\n",
    "# EWMA = Price(t) * k + EWMA(y) * (1 – k)\n",
    "# where:\n",
    "# t = today\n",
    "# y = yesterday\n",
    "# N = number of days in EWMA\n",
    "# k = 2/(N+1)"
   ]
  },
  {
   "cell_type": "code",
   "execution_count": 55,
   "metadata": {},
   "outputs": [],
   "source": [
    "# Function to calculate EWMA-based variance using recursion\n",
    "def calculate_ewma_variance(returns, lambda_value):\n",
    "    ewma_variances = [returns[0]**2]  # Initialize with the variance of the first return\n",
    "    for i in range(1, len(returns)):\n",
    "        ewma_variances.append(lambda_value * ewma_variances[-1] + (1 - lambda_value) * returns[i-1]**2)\n",
    "    return np.array(ewma_variances)"
   ]
  },
  {
   "cell_type": "code",
   "execution_count": 56,
   "metadata": {},
   "outputs": [
    {
     "ename": "KeyError",
     "evalue": "0",
     "output_type": "error",
     "traceback": [
      "\u001b[0;31m---------------------------------------------------------------------------\u001b[0m",
      "\u001b[0;31mKeyError\u001b[0m                                  Traceback (most recent call last)",
      "File \u001b[0;32m~/Library/Python/3.9/lib/python/site-packages/pandas/core/indexes/base.py:3805\u001b[0m, in \u001b[0;36mIndex.get_loc\u001b[0;34m(self, key)\u001b[0m\n\u001b[1;32m   3804\u001b[0m \u001b[39mtry\u001b[39;00m:\n\u001b[0;32m-> 3805\u001b[0m     \u001b[39mreturn\u001b[39;00m \u001b[39mself\u001b[39;49m\u001b[39m.\u001b[39;49m_engine\u001b[39m.\u001b[39;49mget_loc(casted_key)\n\u001b[1;32m   3806\u001b[0m \u001b[39mexcept\u001b[39;00m \u001b[39mKeyError\u001b[39;00m \u001b[39mas\u001b[39;00m err:\n",
      "File \u001b[0;32mindex.pyx:167\u001b[0m, in \u001b[0;36mpandas._libs.index.IndexEngine.get_loc\u001b[0;34m()\u001b[0m\n",
      "File \u001b[0;32mindex.pyx:196\u001b[0m, in \u001b[0;36mpandas._libs.index.IndexEngine.get_loc\u001b[0;34m()\u001b[0m\n",
      "File \u001b[0;32mpandas/_libs/hashtable_class_helper.pxi:7081\u001b[0m, in \u001b[0;36mpandas._libs.hashtable.PyObjectHashTable.get_item\u001b[0;34m()\u001b[0m\n",
      "File \u001b[0;32mpandas/_libs/hashtable_class_helper.pxi:7089\u001b[0m, in \u001b[0;36mpandas._libs.hashtable.PyObjectHashTable.get_item\u001b[0;34m()\u001b[0m\n",
      "\u001b[0;31mKeyError\u001b[0m: 0",
      "\nThe above exception was the direct cause of the following exception:\n",
      "\u001b[0;31mKeyError\u001b[0m                                  Traceback (most recent call last)",
      "\u001b[1;32m/Users/andrewbennett/Documents/bse/term3/finance_ml/ml_finance_regressions/analysis.ipynb Cell 17\u001b[0m line \u001b[0;36m5\n\u001b[1;32m      <a href='vscode-notebook-cell:/Users/andrewbennett/Documents/bse/term3/finance_ml/ml_finance_regressions/analysis.ipynb#X24sZmlsZQ%3D%3D?line=1'>2</a>\u001b[0m lambda_value \u001b[39m=\u001b[39m \u001b[39m0.94\u001b[39m\n\u001b[1;32m      <a href='vscode-notebook-cell:/Users/andrewbennett/Documents/bse/term3/finance_ml/ml_finance_regressions/analysis.ipynb#X24sZmlsZQ%3D%3D?line=3'>4</a>\u001b[0m \u001b[39m# Calculate EWMA-based variance\u001b[39;00m\n\u001b[0;32m----> <a href='vscode-notebook-cell:/Users/andrewbennett/Documents/bse/term3/finance_ml/ml_finance_regressions/analysis.ipynb#X24sZmlsZQ%3D%3D?line=4'>5</a>\u001b[0m ewma_variances \u001b[39m=\u001b[39m calculate_ewma_variance(daily_data, lambda_value)\n\u001b[1;32m      <a href='vscode-notebook-cell:/Users/andrewbennett/Documents/bse/term3/finance_ml/ml_finance_regressions/analysis.ipynb#X24sZmlsZQ%3D%3D?line=6'>7</a>\u001b[0m \u001b[39m# Calculate regular historical volatility estimation (e.g., using cumulative sum of square returns)\u001b[39;00m\n\u001b[1;32m      <a href='vscode-notebook-cell:/Users/andrewbennett/Documents/bse/term3/finance_ml/ml_finance_regressions/analysis.ipynb#X24sZmlsZQ%3D%3D?line=7'>8</a>\u001b[0m historical_volatility \u001b[39m=\u001b[39m np\u001b[39m.\u001b[39msqrt(np\u001b[39m.\u001b[39mcumsum(daily_data\u001b[39m*\u001b[39m\u001b[39m*\u001b[39m\u001b[39m2\u001b[39m))\n",
      "\u001b[1;32m/Users/andrewbennett/Documents/bse/term3/finance_ml/ml_finance_regressions/analysis.ipynb Cell 17\u001b[0m line \u001b[0;36m3\n\u001b[1;32m      <a href='vscode-notebook-cell:/Users/andrewbennett/Documents/bse/term3/finance_ml/ml_finance_regressions/analysis.ipynb#X24sZmlsZQ%3D%3D?line=1'>2</a>\u001b[0m \u001b[39mdef\u001b[39;00m \u001b[39mcalculate_ewma_variance\u001b[39m(returns, lambda_value):\n\u001b[0;32m----> <a href='vscode-notebook-cell:/Users/andrewbennett/Documents/bse/term3/finance_ml/ml_finance_regressions/analysis.ipynb#X24sZmlsZQ%3D%3D?line=2'>3</a>\u001b[0m     ewma_variances \u001b[39m=\u001b[39m [returns[\u001b[39m0\u001b[39;49m]\u001b[39m*\u001b[39m\u001b[39m*\u001b[39m\u001b[39m2\u001b[39m]  \u001b[39m# Initialize with the variance of the first return\u001b[39;00m\n\u001b[1;32m      <a href='vscode-notebook-cell:/Users/andrewbennett/Documents/bse/term3/finance_ml/ml_finance_regressions/analysis.ipynb#X24sZmlsZQ%3D%3D?line=3'>4</a>\u001b[0m     \u001b[39mfor\u001b[39;00m i \u001b[39min\u001b[39;00m \u001b[39mrange\u001b[39m(\u001b[39m1\u001b[39m, \u001b[39mlen\u001b[39m(returns)):\n\u001b[1;32m      <a href='vscode-notebook-cell:/Users/andrewbennett/Documents/bse/term3/finance_ml/ml_finance_regressions/analysis.ipynb#X24sZmlsZQ%3D%3D?line=4'>5</a>\u001b[0m         ewma_variances\u001b[39m.\u001b[39mappend(lambda_value \u001b[39m*\u001b[39m ewma_variances[\u001b[39m-\u001b[39m\u001b[39m1\u001b[39m] \u001b[39m+\u001b[39m (\u001b[39m1\u001b[39m \u001b[39m-\u001b[39m lambda_value) \u001b[39m*\u001b[39m returns[i\u001b[39m-\u001b[39m\u001b[39m1\u001b[39m]\u001b[39m*\u001b[39m\u001b[39m*\u001b[39m\u001b[39m2\u001b[39m)\n",
      "File \u001b[0;32m~/Library/Python/3.9/lib/python/site-packages/pandas/core/frame.py:4102\u001b[0m, in \u001b[0;36mDataFrame.__getitem__\u001b[0;34m(self, key)\u001b[0m\n\u001b[1;32m   4100\u001b[0m \u001b[39mif\u001b[39;00m \u001b[39mself\u001b[39m\u001b[39m.\u001b[39mcolumns\u001b[39m.\u001b[39mnlevels \u001b[39m>\u001b[39m \u001b[39m1\u001b[39m:\n\u001b[1;32m   4101\u001b[0m     \u001b[39mreturn\u001b[39;00m \u001b[39mself\u001b[39m\u001b[39m.\u001b[39m_getitem_multilevel(key)\n\u001b[0;32m-> 4102\u001b[0m indexer \u001b[39m=\u001b[39m \u001b[39mself\u001b[39;49m\u001b[39m.\u001b[39;49mcolumns\u001b[39m.\u001b[39;49mget_loc(key)\n\u001b[1;32m   4103\u001b[0m \u001b[39mif\u001b[39;00m is_integer(indexer):\n\u001b[1;32m   4104\u001b[0m     indexer \u001b[39m=\u001b[39m [indexer]\n",
      "File \u001b[0;32m~/Library/Python/3.9/lib/python/site-packages/pandas/core/indexes/base.py:3812\u001b[0m, in \u001b[0;36mIndex.get_loc\u001b[0;34m(self, key)\u001b[0m\n\u001b[1;32m   3807\u001b[0m     \u001b[39mif\u001b[39;00m \u001b[39misinstance\u001b[39m(casted_key, \u001b[39mslice\u001b[39m) \u001b[39mor\u001b[39;00m (\n\u001b[1;32m   3808\u001b[0m         \u001b[39misinstance\u001b[39m(casted_key, abc\u001b[39m.\u001b[39mIterable)\n\u001b[1;32m   3809\u001b[0m         \u001b[39mand\u001b[39;00m \u001b[39many\u001b[39m(\u001b[39misinstance\u001b[39m(x, \u001b[39mslice\u001b[39m) \u001b[39mfor\u001b[39;00m x \u001b[39min\u001b[39;00m casted_key)\n\u001b[1;32m   3810\u001b[0m     ):\n\u001b[1;32m   3811\u001b[0m         \u001b[39mraise\u001b[39;00m InvalidIndexError(key)\n\u001b[0;32m-> 3812\u001b[0m     \u001b[39mraise\u001b[39;00m \u001b[39mKeyError\u001b[39;00m(key) \u001b[39mfrom\u001b[39;00m \u001b[39merr\u001b[39;00m\n\u001b[1;32m   3813\u001b[0m \u001b[39mexcept\u001b[39;00m \u001b[39mTypeError\u001b[39;00m:\n\u001b[1;32m   3814\u001b[0m     \u001b[39m# If we have a listlike key, _check_indexing_error will raise\u001b[39;00m\n\u001b[1;32m   3815\u001b[0m     \u001b[39m#  InvalidIndexError. Otherwise we fall through and re-raise\u001b[39;00m\n\u001b[1;32m   3816\u001b[0m     \u001b[39m#  the TypeError.\u001b[39;00m\n\u001b[1;32m   3817\u001b[0m     \u001b[39mself\u001b[39m\u001b[39m.\u001b[39m_check_indexing_error(key)\n",
      "\u001b[0;31mKeyError\u001b[0m: 0"
     ]
    }
   ],
   "source": [
    "# Set lambda value for EWMA\n",
    "lambda_value = 0.94\n",
    "\n",
    "# Calculate EWMA-based variance\n",
    "ewma_variances = calculate_ewma_variance(daily_data, lambda_value)\n",
    "\n",
    "# Calculate regular historical volatility estimation (e.g., using cumulative sum of square returns)\n",
    "historical_volatility = np.sqrt(np.cumsum(daily_data**2))"
   ]
  },
  {
   "cell_type": "code",
   "execution_count": null,
   "metadata": {},
   "outputs": [],
   "source": []
  }
 ],
 "metadata": {
  "kernelspec": {
   "display_name": "Python 3",
   "language": "python",
   "name": "python3"
  },
  "language_info": {
   "codemirror_mode": {
    "name": "ipython",
    "version": 3
   },
   "file_extension": ".py",
   "mimetype": "text/x-python",
   "name": "python",
   "nbconvert_exporter": "python",
   "pygments_lexer": "ipython3",
   "version": "3.9.6"
  },
  "orig_nbformat": 4
 },
 "nbformat": 4,
 "nbformat_minor": 2
}
