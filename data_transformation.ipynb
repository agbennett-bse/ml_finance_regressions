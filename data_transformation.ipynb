{
 "cells": [
  {
   "cell_type": "code",
   "execution_count": null,
   "metadata": {
    "vscode": {
     "languageId": "r"
    }
   },
   "outputs": [],
   "source": [
    "library(xts); library(quantmod); library(plyr)\n",
    "library(\"vars\")\n",
    "library(TTR)\n",
    "\n"
   ]
  },
  {
   "cell_type": "markdown",
   "metadata": {},
   "source": [
    "read in data"
   ]
  },
  {
   "cell_type": "code",
   "execution_count": null,
   "metadata": {
    "vscode": {
     "languageId": "r"
    }
   },
   "outputs": [],
   "source": [
    "data.env <- readRDS(\"WorldMarkts99_20.RDS\")\n",
    "# save to csv\n",
    "\n",
    "print(ls(envir = data.env))\n",
    "print(head(data.env$IBEX))"
   ]
  },
  {
   "cell_type": "code",
   "execution_count": null,
   "metadata": {
    "vscode": {
     "languageId": "r"
    }
   },
   "outputs": [],
   "source": [
    "markets <- ls(data.env)\n",
    "markets"
   ]
  },
  {
   "cell_type": "markdown",
   "metadata": {},
   "source": [
    "get daily high, low, and average price for each stock"
   ]
  },
  {
   "cell_type": "code",
   "execution_count": null,
   "metadata": {
    "vscode": {
     "languageId": "r"
    }
   },
   "outputs": [],
   "source": [
    "# loop through each market\n",
    "\n",
    "for (i in 1:length(markets)) {\n",
    "    # write to csv with an index included\n",
    "    write.zoo(data.env[[markets[i]]], file = paste0(\"data/\", markets[i], \".csv\"), sep = \",\")\n",
    "}"
   ]
  },
  {
   "cell_type": "code",
   "execution_count": null,
   "metadata": {
    "vscode": {
     "languageId": "r"
    }
   },
   "outputs": [],
   "source": [
    "## get daily high, low, and average price for each stock\n",
    "\n",
    "get_prices <- function(market) {\n",
    "  data <- data.env[[market]]\n",
    "  data <- data[, c(\"Date\", \"Close\")]\n",
    "  colnames(data) <- c(\"Date\", \"Price\")\n",
    "  data$Date <- as.Date(data$Date)\n",
    "  data <- na.omit(data)\n",
    "  data <- xts(data$Price, data$Date)\n",
    "  return (data)\n",
    "\n",
    "}\n",
    "\n",
    "prices <- ldply(markets, get_prices, .id = \"Market\")\n",
    "prices <- prices[order(prices$Market, prices$Date), ]\n",
    "prices <- xts(prices$Price, order.by = prices$Date)\n",
    "prices <- prices[!duplicated(index(prices)), ]\n",
    "\n",
    "prices"
   ]
  },
  {
   "cell_type": "markdown",
   "metadata": {},
   "source": [
    "loop through each market and calc the returns"
   ]
  },
  {
   "cell_type": "code",
   "execution_count": null,
   "metadata": {
    "vscode": {
     "languageId": "r"
    }
   },
   "outputs": [],
   "source": [
    "returns <- xts() # xts object is a data structure that is used to store time series data\n",
    "per<- \"weekly\" \n",
    "for(i in seq_along(markets)) {\n",
    "  sym <- markets[i]\n",
    "  print(sym)\n",
    "  returns <- merge(returns, periodReturn(Ad(get(sym,envir=data.env)),period=per,type = \"log\", dropNa = FALSE)) # this function calculates the log returns of the adjusted closing prices\n",
    "  # add a column header to the new column\n",
    "  colnames(returns)[ncol(returns)] <- sym\n",
    "}"
   ]
  },
  {
   "cell_type": "code",
   "execution_count": null,
   "metadata": {
    "vscode": {
     "languageId": "r"
    }
   },
   "outputs": [],
   "source": [
    "# save daily returns to csv\n",
    "# include index\n",
    "write.zoo(returns, file = \"data/weekly_returns.csv\", index.name = \"Date\", sep = \",\")"
   ]
  },
  {
   "cell_type": "code",
   "execution_count": null,
   "metadata": {
    "vscode": {
     "languageId": "r"
    }
   },
   "outputs": [],
   "source": []
  },
  {
   "cell_type": "markdown",
   "metadata": {},
   "source": [
    "impute values"
   ]
  },
  {
   "cell_type": "code",
   "execution_count": null,
   "metadata": {
    "vscode": {
     "languageId": "r"
    }
   },
   "outputs": [],
   "source": [
    "\n",
    "returns_imputed <- returns\n",
    "\n",
    "returns_imputed <- na.locf(returns_imputed, fromLast=TRUE)\n",
    "\n",
    "# count na values\n",
    "sum(is.na(returns_imputed))"
   ]
  },
  {
   "cell_type": "code",
   "execution_count": null,
   "metadata": {
    "vscode": {
     "languageId": "r"
    }
   },
   "outputs": [],
   "source": [
    "# it is the last roww that has na values so we can remove it\n",
    "returns_imputed <- returns_imputed[-nrow(returns_imputed),]\n",
    "sum(is.na(returns_imputed))"
   ]
  },
  {
   "cell_type": "markdown",
   "metadata": {},
   "source": [
    "treat outliers"
   ]
  },
  {
   "cell_type": "code",
   "execution_count": null,
   "metadata": {
    "vscode": {
     "languageId": "r"
    }
   },
   "outputs": [],
   "source": [
    "# find outliers and impute them with locf\n",
    "\n",
    "# find outliers\n",
    "outliers <- function(x) {\n",
    "  qnt <- quantile(x, probs=c(.25, .75), na.rm = TRUE)\n",
    "  H <- 1.75 * IQR(x, na.rm = TRUE)\n",
    "  y <- x\n",
    "  y[x < (qnt[1] - H)] <- NA\n",
    "  y[x > (qnt[2] + H)] <- NA\n",
    "  return(y)\n",
    "}\n",
    "\n",
    "returns_imputed <- apply(returns_imputed, 2, outliers)\n"
   ]
  },
  {
   "cell_type": "code",
   "execution_count": null,
   "metadata": {
    "vscode": {
     "languageId": "r"
    }
   },
   "outputs": [],
   "source": [
    "# impute outliers \n",
    "\n",
    "returns_imputed <- na.locf(returns_imputed, fromLast=TRUE)\n",
    "returns_imputed"
   ]
  },
  {
   "cell_type": "markdown",
   "metadata": {},
   "source": [
    "extracting epoch time from the date and time columns"
   ]
  },
  {
   "cell_type": "code",
   "execution_count": null,
   "metadata": {
    "vscode": {
     "languageId": "r"
    }
   },
   "outputs": [],
   "source": [
    "dI=\"2001-01-01\"; dF=\"2003-01-01\"\n",
    "Retp <- returns_imputed[paste(dI,\"/\",dF,sep=\"\"),]"
   ]
  },
  {
   "cell_type": "markdown",
   "metadata": {},
   "source": [
    "### Question 1"
   ]
  },
  {
   "cell_type": "code",
   "execution_count": null,
   "metadata": {
    "vscode": {
     "languageId": "r"
    }
   },
   "outputs": [],
   "source": [
    "library(ggplot2)"
   ]
  },
  {
   "cell_type": "code",
   "execution_count": null,
   "metadata": {
    "vscode": {
     "languageId": "r"
    }
   },
   "outputs": [],
   "source": [
    "# Set lambda value\n",
    "lambda <- 0.94\n",
    "\n",
    "for (i in 1:ncol(Retp)) {\n",
    "    returns <- Retp[, i]\n",
    "    # Compute EWMA-based variance using EMA function\n",
    "    # by using the EMA function, we can calculate the EWMA-based variance when we set the lambda value\n",
    "    # the lambda value is the weight of the most recent observation\n",
    "    # the difference between EMA and EWMA is that EMA is used to calculate the average of the data points, while EWMA is used to calculate the variance of the data points\n",
    "    ewma_variance <- EMA(returns^2, n = 1 / (1 - lambda)) \n",
    "\n",
    "    # Compare with other volatility estimations (e.g., historical volatility)\n",
    "    historical_volatility <- sqrt(rollapply(returns^2, width = 21, FUN = sum, align = \"right\", fill = NA) / 21)\n",
    "\n",
    "    # \n",
    "\n",
    "    ggplot( aes(x = historical_volatility, y = index(historical_volatility))) +\n",
    "    geom_line() +\n",
    "    labs(x = \"Date\", y = \"Value\", title = \"Line Graph Example\")\n",
    "\n",
    "\n",
    "}"
   ]
  },
  {
   "cell_type": "code",
   "execution_count": null,
   "metadata": {
    "vscode": {
     "languageId": "r"
    }
   },
   "outputs": [],
   "source": []
  }
 ],
 "metadata": {
  "kernelspec": {
   "display_name": "R",
   "language": "R",
   "name": "ir"
  },
  "language_info": {
   "codemirror_mode": "r",
   "file_extension": ".r",
   "mimetype": "text/x-r-source",
   "name": "R",
   "pygments_lexer": "r",
   "version": "4.3.3"
  }
 },
 "nbformat": 4,
 "nbformat_minor": 2
}
